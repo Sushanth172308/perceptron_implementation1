{
 "cells": [
  {
   "cell_type": "code",
   "execution_count": null,
   "id": "0e93928b",
   "metadata": {},
   "outputs": [],
   "source": [
    "import os\n",
    "import matplotlib.pyplot as plt\n",
    "import joblib # save model as binary\n",
    "import numpy as np\n",
    "\n",
    "plt.style.use('fivethirtyeight')  # for matpltlib styles"
   ]
  },
  {
   "cell_type": "code",
   "execution_count": null,
   "id": "39cb79d1",
   "metadata": {},
   "outputs": [],
   "source": [
    "class Perceptron:\n",
    "    def __init__(self,eta:float=None,epochs:int=None):\n",
    "        self.weights =np.random.randn(3) * 1e-4\n",
    "        self.eta =eta # learnig rata\n",
    "        self.epochs = epochs # iterations\n",
    "        \n",
    "    def _z_outcome(self,inputs,weights):\n",
    "        return np.dot(inputs,weights)\n",
    "    \n",
    "    def activation_function(self,z):\n",
    "        return np.where(z>0, 1, 0)\n",
    "        \n",
    "    def fit(self, X,y):\n",
    "        self.X =X\n",
    "        self.y =y\n",
    "        \n",
    "        #X_with_bias = np.c_[self.X,-np.ones(4,1)]\n",
    "        X_with_bias = np.c_[self.X, -np.ones((len(self.X),1))]\n",
    "        print(f'X with the bias:\\n{X_with_bias}')\n",
    "        \n",
    "        for epoch in range(self.epochs):\n",
    "            z =self._z_outcome(X_with_bias, self.weights)\n",
    "\n",
    "            y_hat =self.activation_funcation(z)\n",
    "            \n",
    "            self.error =self.y - y_hat\n",
    "            \n",
    "            #weight update rule\n",
    "            self.weights = self.weights +self.eta *np.dot(X_with_bias.T,self.error)\n",
    "            \n",
    "        def predict(self,X):\n",
    "            X_with_bias =np.c_[X,]\n",
    "        \n",
    "        "
   ]
  },
  {
   "cell_type": "code",
   "execution_count": null,
   "id": "1cc89a3f",
   "metadata": {},
   "outputs": [],
   "source": [
    "obj =Perceptron(eta =0.01,epochs =10)\n"
   ]
  },
  {
   "cell_type": "code",
   "execution_count": null,
   "id": "3326d84f",
   "metadata": {},
   "outputs": [],
   "source": [
    "obj.epochs"
   ]
  },
  {
   "cell_type": "code",
   "execution_count": null,
   "id": "e2baaf5d",
   "metadata": {},
   "outputs": [],
   "source": [
    "obj.weights"
   ]
  },
  {
   "cell_type": "code",
   "execution_count": null,
   "id": "d7f69bd6",
   "metadata": {
    "scrolled": true
   },
   "outputs": [],
   "source": [
    "X"
   ]
  },
  {
   "cell_type": "code",
   "execution_count": null,
   "id": "83b9361a",
   "metadata": {},
   "outputs": [],
   "source": [
    "y = np.ones((4,1))\n"
   ]
  },
  {
   "cell_type": "code",
   "execution_count": null,
   "id": "60ecc6ad",
   "metadata": {},
   "outputs": [],
   "source": [
    "obj.fit(X, y)"
   ]
  },
  {
   "cell_type": "code",
   "execution_count": null,
   "id": "6f691c36",
   "metadata": {},
   "outputs": [],
   "source": [
    "z=-34\n",
    "np.where(z>0, 1, 0)"
   ]
  },
  {
   "cell_type": "code",
   "execution_count": null,
   "id": "104d356d",
   "metadata": {},
   "outputs": [],
   "source": []
  },
  {
   "cell_type": "code",
   "execution_count": null,
   "id": "d56d9622",
   "metadata": {},
   "outputs": [],
   "source": []
  },
  {
   "cell_type": "code",
   "execution_count": null,
   "id": "113f2ab4",
   "metadata": {},
   "outputs": [],
   "source": []
  }
 ],
 "metadata": {
  "kernelspec": {
   "display_name": "Python 3",
   "language": "python",
   "name": "python3"
  },
  "language_info": {
   "codemirror_mode": {
    "name": "ipython",
    "version": 3
   },
   "file_extension": ".py",
   "mimetype": "text/x-python",
   "name": "python",
   "nbconvert_exporter": "python",
   "pygments_lexer": "ipython3",
   "version": "3.7.0"
  }
 },
 "nbformat": 4,
 "nbformat_minor": 5
}
